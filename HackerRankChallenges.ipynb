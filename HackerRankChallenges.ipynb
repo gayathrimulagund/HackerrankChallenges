{
 "cells": [
  {
   "cell_type": "markdown",
   "id": "ea0ee33f-372a-45d8-af76-81e3c26e4ed9",
   "metadata": {},
   "source": [
    "## Hacker Rank challenges"
   ]
  },
  {
   "cell_type": "code",
   "execution_count": 1,
   "id": "9b5463df-9ab1-44cb-b281-ef233ff82b64",
   "metadata": {},
   "outputs": [
    {
     "name": "stdout",
     "output_type": "stream",
     "text": [
      "This program displays a pattern using *\n",
      "Enter the number of rows for your pattern: \n"
     ]
    },
    {
     "name": "stdin",
     "output_type": "stream",
     "text": [
      " 5\n"
     ]
    },
    {
     "name": "stdout",
     "output_type": "stream",
     "text": [
      "    *\n",
      "\n",
      "   **\n",
      "\n",
      "  ***\n",
      "\n",
      " ****\n",
      "\n",
      "*****\n",
      "\n"
     ]
    }
   ],
   "source": [
    "print(\"This program displays a pattern using *\")\n",
    "print(\"Enter the number of rows for your pattern: \")\n",
    "n = int(input())\n",
    "for i in range (n):\n",
    "    for j in range(i+1):\n",
    "        print(\" \"*(n-i-1) + '*'*(i+1))\n",
    "        break\n",
    "    print(\"\")"
   ]
  },
  {
   "cell_type": "code",
   "execution_count": 2,
   "id": "4cc21a79-d8f0-4731-bfc5-caa820f9435c",
   "metadata": {},
   "outputs": [
    {
     "name": "stdout",
     "output_type": "stream",
     "text": [
      "This program gets 5 numbers from the user and checks the sum of 4 numbers excluding one at a time and finds the min and max\n",
      "Enter 5 numbers: \n"
     ]
    },
    {
     "name": "stdin",
     "output_type": "stream",
     "text": [
      " 3\n"
     ]
    },
    {
     "name": "stdout",
     "output_type": "stream",
     "text": [
      "Enter 5 numbers: \n"
     ]
    },
    {
     "name": "stdin",
     "output_type": "stream",
     "text": [
      " 2\n"
     ]
    },
    {
     "name": "stdout",
     "output_type": "stream",
     "text": [
      "Enter 5 numbers: \n"
     ]
    },
    {
     "name": "stdin",
     "output_type": "stream",
     "text": [
      " 5\n"
     ]
    },
    {
     "name": "stdout",
     "output_type": "stream",
     "text": [
      "Enter 5 numbers: \n"
     ]
    },
    {
     "name": "stdin",
     "output_type": "stream",
     "text": [
      " 6\n"
     ]
    },
    {
     "name": "stdout",
     "output_type": "stream",
     "text": [
      "Enter 5 numbers: \n"
     ]
    },
    {
     "name": "stdin",
     "output_type": "stream",
     "text": [
      " 4\n"
     ]
    },
    {
     "name": "stdout",
     "output_type": "stream",
     "text": [
      "Your numbers are: [3, 2, 5, 6, 4]\n",
      "new_list: [17, 18, 15, 14, 16]\n",
      "14 18\n"
     ]
    }
   ],
   "source": [
    "print(\"This program gets 5 numbers from the user and checks the sum of 4 numbers excluding one at a time and finds the min and max\")\n",
    "def check(my_list):\n",
    "    print(\"Your numbers are: \" + str(my_list))\n",
    "    my_sum = []\n",
    "    for i in (my_list):\n",
    "        sum1 = sum(my_list) - i\n",
    "        my_sum.append(sum1)\n",
    "    print(\"new_list: \" + str(my_sum))\n",
    "    my_min = min(my_sum)\n",
    "    my_max = max(my_sum)\n",
    "    print(str(my_min) + \" \" + str(my_max))\n",
    "    \n",
    "numlist = []\n",
    "for n in range(5):\n",
    "    print(\"Enter 5 numbers: \")\n",
    "    num = int(input())\n",
    "    numlist.append(num)\n",
    "check(numlist)"
   ]
  },
  {
   "cell_type": "code",
   "execution_count": 3,
   "id": "8b2d7450-b3f7-47c9-88f5-fa7e2e4a4c39",
   "metadata": {},
   "outputs": [
    {
     "name": "stdin",
     "output_type": "stream",
     "text": [
      "Enter the length of your list:  3\n"
     ]
    },
    {
     "name": "stdout",
     "output_type": "stream",
     "text": [
      "Enter the numbers: \n"
     ]
    },
    {
     "name": "stdin",
     "output_type": "stream",
     "text": [
      " 52\n"
     ]
    },
    {
     "name": "stdout",
     "output_type": "stream",
     "text": [
      "Enter the numbers: \n"
     ]
    },
    {
     "name": "stdin",
     "output_type": "stream",
     "text": [
      " 52\n"
     ]
    },
    {
     "name": "stdout",
     "output_type": "stream",
     "text": [
      "Enter the numbers: \n"
     ]
    },
    {
     "name": "stdin",
     "output_type": "stream",
     "text": [
      " 45\n"
     ]
    },
    {
     "name": "stdout",
     "output_type": "stream",
     "text": [
      "Your numbers are: [52, 52, 45]\n",
      "52\n",
      "2\n"
     ]
    }
   ],
   "source": [
    "##### print(\"This program finds the count of max number in a list\")\n",
    "def check(my_list):\n",
    "    print(\"Your numbers are: \" + str(my_list))\n",
    "    my_max = max(my_list)\n",
    "    print(str(my_max))\n",
    "    my_count = my_list.count(my_max)\n",
    "    print(str(my_count))\n",
    "    \n",
    "numlist = []\n",
    "n = int(input(\"Enter the length of your list: \"))\n",
    "for a in range(n):\n",
    "    print(\"Enter the numbers: \")\n",
    "    num = int(input())\n",
    "    numlist.append(num)\n",
    "check(numlist)"
   ]
  },
  {
   "cell_type": "code",
   "execution_count": null,
   "id": "28dbb64b-2bb0-4354-99f2-33ce2a28f19b",
   "metadata": {},
   "outputs": [],
   "source": []
  }
 ],
 "metadata": {
  "kernelspec": {
   "display_name": "Python 3 (ipykernel)",
   "language": "python",
   "name": "python3"
  },
  "language_info": {
   "codemirror_mode": {
    "name": "ipython",
    "version": 3
   },
   "file_extension": ".py",
   "mimetype": "text/x-python",
   "name": "python",
   "nbconvert_exporter": "python",
   "pygments_lexer": "ipython3",
   "version": "3.9.7"
  }
 },
 "nbformat": 4,
 "nbformat_minor": 5
}
